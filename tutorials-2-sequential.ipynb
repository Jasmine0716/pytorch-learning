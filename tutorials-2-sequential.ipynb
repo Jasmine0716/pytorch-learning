{
 "cells": [
  {
   "cell_type": "code",
   "execution_count": 1,
   "metadata": {},
   "outputs": [
    {
     "name": "stdout",
     "output_type": "stream",
     "text": [
      "iter   0, loss: 0.98688\n",
      "iter  10, loss: 0.08202\n",
      "iter  20, loss: 0.02575\n",
      "iter  30, loss: 0.00894\n",
      "iter  40, loss: 0.00283\n",
      "iter  50, loss: 0.00119\n",
      "iter  60, loss: 0.00039\n",
      "iter  70, loss: 0.00013\n",
      "iter  80, loss: 0.00005\n",
      "iter  90, loss: 0.00002\n"
     ]
    }
   ],
   "source": [
    "import torch\n",
    "\n",
    "N, D_in, H, D_out = 64, 1000, 100, 10\n",
    "\n",
    "x = torch.randn(N,D_in)\n",
    "y = torch.randn(N,D_out)\n",
    "\n",
    "model = torch.nn.Sequential(\n",
    "    torch.nn.Linear(D_in,H),\n",
    "    torch.nn.ReLU(),\n",
    "    torch.nn.Linear(H,D_out)\n",
    ")\n",
    "\n",
    "iter = 100\n",
    "lr = 0.001\n",
    "\n",
    "criterion = torch.nn.MSELoss()\n",
    "optimizer = torch.optim.Adam(model.parameters(),lr)\n",
    "\n",
    "for i in range(iter):\n",
    "    predicts = model(x)\n",
    "    loss = criterion(predicts,y)\n",
    "    optimizer.zero_grad()\n",
    "    loss.backward()\n",
    "    optimizer.step()\n",
    "    \n",
    "    if i%10==0:\n",
    "        print('iter %3d, loss: %.5f'%(i,loss))"
   ]
  },
  {
   "cell_type": "code",
   "execution_count": null,
   "metadata": {},
   "outputs": [],
   "source": []
  }
 ],
 "metadata": {
  "kernelspec": {
   "display_name": "Python 3",
   "language": "python",
   "name": "python3"
  },
  "language_info": {
   "codemirror_mode": {
    "name": "ipython",
    "version": 3
   },
   "file_extension": ".py",
   "mimetype": "text/x-python",
   "name": "python",
   "nbconvert_exporter": "python",
   "pygments_lexer": "ipython3",
   "version": "3.7.3"
  }
 },
 "nbformat": 4,
 "nbformat_minor": 2
}
