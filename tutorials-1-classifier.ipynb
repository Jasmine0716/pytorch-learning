{
 "cells": [
  {
   "cell_type": "code",
   "execution_count": 1,
   "metadata": {},
   "outputs": [],
   "source": [
    "import torch\n",
    "import torchvision #for loading dataset\n",
    "#torchvision.datasets and torch.utils.data.DataLoader\n",
    "import torchvision.transforms as transforms"
   ]
  },
  {
   "cell_type": "code",
   "execution_count": 2,
   "metadata": {
    "scrolled": true
   },
   "outputs": [
    {
     "name": "stdout",
     "output_type": "stream",
     "text": [
      "Files already downloaded and verified\n",
      "Files already downloaded and verified\n"
     ]
    }
   ],
   "source": [
    "# doc for torchvision\n",
    "#http://pytorch.org/docs/master/torchvision/index.html\n",
    "\n",
    "# requirement for the form of the dataset: mean=0.5 std=0.5 [-1,1]\n",
    "transform = transforms.Compose([transforms.ToTensor(),transforms.Normalize((0.5,0.5,0.5),(0.5,0.5,0.5))])\n",
    "# download the trainset\n",
    "trainset = torchvision.datasets.CIFAR10(root='./data/1-classifier-train',train=True,download=True,transform=transform)\n",
    "# download the testset\n",
    "testset = torchvision.datasets.CIFAR10(root='./data/1-classifier-test',train=False,download=True,transform=transform)\n",
    "\n",
    "# load the data\n",
    "# explaination for num_workers:\n",
    "# https://blog.csdn.net/weixin_43593330/article/details/107483671\n",
    "trainloader = torch.utils.data.DataLoader(trainset,batch_size=4,shuffle=True,num_workers=2)\n",
    "testloader = torch.utils.data.DataLoader(testset,batch_size=4,shuffle=False,num_workers=2)\n",
    "\n",
    "classes = ('plane', 'car', 'bird', 'cat',\n",
    "           'deer', 'dog', 'frog', 'horse', 'ship', 'truck')"
   ]
  },
  {
   "cell_type": "code",
   "execution_count": 4,
   "metadata": {},
   "outputs": [
    {
     "data": {
      "image/png": "[encoded data removed]",
      "text/plain": [
       "<Figure size 432x288 with 1 Axes>"
      ]
     },
     "metadata": {
      "needs_background": "light"
     },
     "output_type": "display_data"
    },
    {
     "name": "stdout",
     "output_type": "stream",
     "text": [
      " ship plane   car   car\n"
     ]
    }
   ],
   "source": [
    "# visualize some of the image\n",
    "import matplotlib.pyplot as plt\n",
    "import numpy as np\n",
    "\n",
    "def show_image(img):\n",
    "    img = img/2 + 0.5 # unnormalize the image:[-1,1]->[0,1]\n",
    "    img_np = img.numpy()\n",
    "#     plt.imshow(img_np)  #不调换索引的结果->error  why???\n",
    "    plt.imshow(np.transpose(img_np,(1,2,0))) #np.transpose:调换索引的位置\n",
    "    plt.show()\n",
    "    \n",
    "# ???\n",
    "dataiter = iter(trainloader)\n",
    "images, labels = dataiter.next()\n",
    "\n",
    "show_image(torchvision.utils.make_grid(images))\n",
    "\n",
    "print(' '.join('%5s'%classes[labels[i]] for i in range(4)))"
   ]
  },
  {
   "cell_type": "code",
   "execution_count": 5,
   "metadata": {},
   "outputs": [],
   "source": [
    "# define a nn\n",
    "import torch.nn as nn\n",
    "import torch.nn.functional as F\n",
    "\n",
    "class Net(nn.Module):\n",
    "    \n",
    "    def __init__(self):\n",
    "        super(Net, self).__init__()\n",
    "        self.conv1 = nn.Conv2d(3,6,5) #channel3->6  kernel_size=5\n",
    "        self.pool = nn.MaxPool2d(2,2)\n",
    "        self.conv2 = nn.Conv2d(6,16,5)\n",
    "        self.fc1 = nn.Linear(16*5*5,120)\n",
    "        self.fc2 = nn.Linear(120,84)\n",
    "        self.fc3 = nn.Linear(84,10)\n",
    "        \n",
    "    def forward(self,x):\n",
    "        x = self.conv1(x)\n",
    "        x = F.relu(x)\n",
    "        x = self.pool(x)\n",
    "        x = self.conv2(x)\n",
    "        x = F.relu(x)\n",
    "        x = self.pool(x)\n",
    "        x = x.view(-1,self.num_features(x))\n",
    "        x = F.relu(self.fc1(x))\n",
    "        x = F.relu(self.fc2(x))\n",
    "        x = self.fc3(x)\n",
    "        \n",
    "        return x\n",
    "    \n",
    "    def num_features(self,x):\n",
    "        size = x.shape[1:]\n",
    "        features = 1\n",
    "        for i in size:\n",
    "            features *= i\n",
    "        return features\n",
    "\n",
    "net = Net()"
   ]
  },
  {
   "cell_type": "code",
   "execution_count": 6,
   "metadata": {},
   "outputs": [],
   "source": [
    "# define a optimizer\n",
    "import torch.optim as optim\n",
    "\n",
    "criterion = nn.CrossEntropyLoss()\n",
    "optimizer = optim.SGD(net.parameters(),lr = 0.001, momentum=0.9)\n",
    "# optimizer is different from criterion\n",
    "# optimizer: update rule\n",
    "# criterion: loss computation"
   ]
  },
  {
   "cell_type": "code",
   "execution_count": 7,
   "metadata": {},
   "outputs": [
    {
     "name": "stdout",
     "output_type": "stream",
     "text": [
      "[1, 2000]loss:2.170\n",
      "[1, 4000]loss:1.895\n",
      "[1, 6000]loss:1.681\n",
      "[1, 8000]loss:1.565\n",
      "[1,10000]loss:1.494\n",
      "[1,12000]loss:1.475\n",
      "[2, 2000]loss:1.383\n",
      "[2, 4000]loss:1.340\n",
      "[2, 6000]loss:1.338\n",
      "[2, 8000]loss:1.294\n",
      "[2,10000]loss:1.256\n",
      "[2,12000]loss:1.263\n",
      "Finished!\n"
     ]
    }
   ],
   "source": [
    "# training\n",
    "epoch = 2\n",
    "for n in range(epoch):\n",
    "    running_loss = 0.0 #float\n",
    "    for i,data in enumerate(trainloader):\n",
    "        inputs, labels = data\n",
    "#         print(inputs.shape) \n",
    "        optimizer.zero_grad()\n",
    "        outs = net(inputs)\n",
    "        loss = criterion(outs, labels)\n",
    "        loss.backward()\n",
    "        optimizer.step()\n",
    "        \n",
    "        running_loss += loss  #\n",
    "        if (i%2000 == 1999):\n",
    "            print('[%d,%5d]loss:%.3f'%(n+1,i+1,running_loss/2000))\n",
    "            running_loss = 0.0\n",
    "\n",
    "print('Finished!')"
   ]
  },
  {
   "cell_type": "code",
   "execution_count": 8,
   "metadata": {},
   "outputs": [],
   "source": [
    "# save the trained model\n",
    "PATH = './models/cifar_net.pth'\n",
    "torch.save(net.state_dict(),PATH)"
   ]
  },
  {
   "cell_type": "code",
   "execution_count": 9,
   "metadata": {},
   "outputs": [
    {
     "data": {
      "image/png": "[encoded data removed]",
      "text/plain": [
       "<Figure size 432x288 with 1 Axes>"
      ]
     },
     "metadata": {
      "needs_background": "light"
     },
     "output_type": "display_data"
    },
    {
     "name": "stdout",
     "output_type": "stream",
     "text": [
      "  cat  ship  ship plane\n"
     ]
    }
   ],
   "source": [
    "# display some of the test dataset\n",
    "dataiter = iter(testloader)\n",
    "images, labels = dataiter.next()\n",
    "\n",
    "show_image(torchvision.utils.make_grid(images))\n",
    "\n",
    "print(' '.join('%5s'%classes[labels[i]] for i in range(4)))"
   ]
  },
  {
   "cell_type": "code",
   "execution_count": 10,
   "metadata": {},
   "outputs": [],
   "source": [
    "# load the trained model\n",
    "net = Net()\n",
    "net.load_state_dict(torch.load(PATH))"
   ]
  },
  {
   "cell_type": "code",
   "execution_count": 15,
   "metadata": {},
   "outputs": [
    {
     "name": "stdout",
     "output_type": "stream",
     "text": [
      "Total accurancy: 56.65000 % \n",
      "\n",
      "Accurancy of class plane: 53.80000 %\n",
      "Accurancy of class   car: 64.30000 %\n",
      "Accurancy of class  bird: 39.00000 %\n",
      "Accurancy of class   cat: 47.90000 %\n",
      "Accurancy of class  deer: 37.70000 %\n",
      "Accurancy of class   dog: 48.90000 %\n",
      "Accurancy of class  frog: 65.00000 %\n",
      "Accurancy of class horse: 61.40000 %\n",
      "Accurancy of class  ship: 74.20000 %\n",
      "Accurancy of class truck: 74.30000 %\n"
     ]
    }
   ],
   "source": [
    "# show the performance of the trained the model on the test dataset\n",
    "correct = 0.0\n",
    "total = 0.0\n",
    "class_correct = list(0.0 for i in range(10))\n",
    "class_total = list(0.0 for i in range(10))\n",
    "\n",
    "with torch.no_grad():  #test不需要grad，节省cpu\n",
    "    for data in testloader:\n",
    "        inputs, labels = data\n",
    "        outputs = net(inputs)  #the outputs are scores for 10 classes\n",
    "#         print(outputs.shape)\n",
    "        _, predicts = torch.max(outputs,1) \n",
    "        total += labels.shape[0]\n",
    "        correct += torch.sum((predicts==labels)).item()  #!!!!Attention:from tensor to float/int <- .item()\n",
    "        for i in range(4):  #batch_size == 4\n",
    "            label = labels[i]\n",
    "            class_total[label] += 1\n",
    "            class_correct[label] += (label==predicts[i]).item()\n",
    "\n",
    "print('Total accurancy: %.5f %% \\n'%(correct/total*100))\n",
    "for i in range(10):\n",
    "    print('Accurancy of class %5s: %.5f %%'%(classes[i],class_correct[i]/class_total[i]*100))"
   ]
  },
  {
   "cell_type": "code",
   "execution_count": null,
   "metadata": {},
   "outputs": [],
   "source": []
  }
 ],
 "metadata": {
  "kernelspec": {
   "display_name": "Python 3",
   "language": "python",
   "name": "python3"
  },
  "language_info": {
   "codemirror_mode": {
    "name": "ipython",
    "version": 3
   },
   "file_extension": ".py",
   "mimetype": "text/x-python",
   "name": "python",
   "nbconvert_exporter": "python",
   "pygments_lexer": "ipython3",
   "version": "3.7.3"
  }
 },
 "nbformat": 4,
 "nbformat_minor": 2
}
